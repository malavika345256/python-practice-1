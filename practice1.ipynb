{
 "cells": [
  {
   "cell_type": "code",
   "execution_count": 1,
   "id": "e6e8f2d5-59e0-4814-93df-74eb5a162536",
   "metadata": {},
   "outputs": [
    {
     "name": "stdout",
     "output_type": "stream",
     "text": [
      "palindrome string\n"
     ]
    }
   ],
   "source": [
    "str=\"Madam\"\n",
    "str=str.lower()\n",
    "str1=reversed(str)\n",
    "if list(str)==list(str1):\n",
    "   print(\"palindrome string\")\n",
    "else:\n",
    "   print(\"not a palindrome string\")"
   ]
  },
  {
   "cell_type": "code",
   "execution_count": 5,
   "id": "a4061dd9-75a2-4dbc-9540-db3db952bfef",
   "metadata": {},
   "outputs": [
    {
     "name": "stdin",
     "output_type": "stream",
     "text": [
      "enter the number 9\n"
     ]
    },
    {
     "name": "stdout",
     "output_type": "stream",
     "text": [
      "362880\n"
     ]
    }
   ],
   "source": [
    "num=int(input('enter the number'))\n",
    "fact=1\n",
    "for i in range(1,num+1):\n",
    "    fact=fact*i\n",
    "print(fact)"
   ]
  },
  {
   "cell_type": "code",
   "execution_count": 7,
   "id": "9015b69c-8a83-4731-990b-5c0eb356b608",
   "metadata": {},
   "outputs": [
    {
     "name": "stdin",
     "output_type": "stream",
     "text": [
      " 30\n",
      " 50\n",
      " 70\n"
     ]
    },
    {
     "name": "stdout",
     "output_type": "stream",
     "text": [
      "year 1:2100.00\n",
      "year 2:107100.00\n",
      "year 3:5462100.00\n",
      "year 4:278567100.00\n",
      "year 5:14206922100.00\n",
      "year 6:724553027100.00\n",
      "year 7:36952204382100.00\n",
      "year 8:1884562423487100.00\n",
      "year 9:96112683597842096.00\n",
      "year 10:4901746863489946624.00\n"
     ]
    }
   ],
   "source": [
    "initial_population=int(input())\n",
    "growth_rate=float(input())\n",
    "female_precentage=float(input())\n",
    "for year in range(10):\n",
    "    total=initial_population*(1+growth_rate)**year\n",
    "    female=total*female_precentage\n",
    "    print(f\"year {year+1}:{female:.2f}\")"
   ]
  },
  {
   "cell_type": "code",
   "execution_count": 9,
   "id": "2791b159-713e-44f8-b5b5-f63237db3aea",
   "metadata": {},
   "outputs": [
    {
     "name": "stdin",
     "output_type": "stream",
     "text": [
      "enter a 1st number 5\n",
      "enter a 2nd number 7\n",
      "enter a 3rd number 8\n"
     ]
    },
    {
     "name": "stdout",
     "output_type": "stream",
     "text": [
      "7\n",
      "the median is: (5, 7, 8)\n"
     ]
    }
   ],
   "source": [
    "a=int(input('enter a 1st number'))\n",
    "b=int(input('enter a 2nd number'))\n",
    "c=int(input('enter a 3rd number'))\n",
    "median=(a,b,c)\n",
    "if (a>b and a<c) or (a<b and a>c):\n",
    "    print(a)\n",
    "elif (b>a and b<c) or (b<a and b>c):\n",
    "    print(b)\n",
    "else:\n",
    "    print(c)\n",
    "print('the median is:',median)"
   ]
  },
  {
   "cell_type": "code",
   "execution_count": 11,
   "id": "8b12a04e-58b7-4277-be81-3ff7023798b2",
   "metadata": {},
   "outputs": [
    {
     "name": "stdout",
     "output_type": "stream",
     "text": [
      "Odd numbers\n",
      "1\n",
      "3\n",
      "5\n",
      "7\n",
      "9\n",
      "11\n",
      "13\n",
      "15\n",
      "17\n",
      "19\n",
      "21\n",
      "23\n",
      "25\n"
     ]
    }
   ],
   "source": [
    "print('Odd numbers')\n",
    "for i in range(1,27):\n",
    "    if i%2==0:\n",
    "       odd=i-1\n",
    "       print(f\"{odd}\")  #format output for alignment!!"
   ]
  },
  {
   "cell_type": "code",
   "execution_count": 13,
   "id": "d36f4f8f-0db6-4656-acec-2771e05aaf51",
   "metadata": {},
   "outputs": [
    {
     "name": "stdin",
     "output_type": "stream",
     "text": [
      "enter the number: 5\n"
     ]
    },
    {
     "name": "stdout",
     "output_type": "stream",
     "text": [
      "multiplication table of  5\n",
      "5 x 1 = 5\n",
      "5 x 2 = 10\n",
      "5 x 3 = 15\n",
      "5 x 4 = 20\n",
      "5 x 5 = 25\n",
      "5 x 6 = 30\n",
      "5 x 7 = 35\n",
      "5 x 8 = 40\n",
      "5 x 9 = 45\n",
      "5 x 10 = 50\n"
     ]
    }
   ],
   "source": [
    "num=int(input(\"enter the number:\"))\n",
    "print(\"multiplication table of \",num)\n",
    "for i in range(1,11):\n",
    "        print(num,'x',i,'=',num*i)"
   ]
  },
  {
   "cell_type": "code",
   "execution_count": 15,
   "id": "33900bf4-26ca-4e50-a8d6-15ae3499ed66",
   "metadata": {},
   "outputs": [
    {
     "name": "stdout",
     "output_type": "stream",
     "text": [
      "loop skips\n"
     ]
    }
   ],
   "source": [
    "for index in range(50,30,-3):\n",
    "    if index==50:\n",
    "        print(\"loop skips\")\n",
    "        continue\n",
    "        print(index,end=' ')\n",
    "        print(index)"
   ]
  },
  {
   "cell_type": "code",
   "execution_count": null,
   "id": "28aa34af-89c7-4f86-aad8-e79f83f359ca",
   "metadata": {},
   "outputs": [],
   "source": []
  }
 ],
 "metadata": {
  "kernelspec": {
   "display_name": "Python 3 (ipykernel)",
   "language": "python",
   "name": "python3"
  },
  "language_info": {
   "codemirror_mode": {
    "name": "ipython",
    "version": 3
   },
   "file_extension": ".py",
   "mimetype": "text/x-python",
   "name": "python",
   "nbconvert_exporter": "python",
   "pygments_lexer": "ipython3",
   "version": "3.12.4"
  }
 },
 "nbformat": 4,
 "nbformat_minor": 5
}
